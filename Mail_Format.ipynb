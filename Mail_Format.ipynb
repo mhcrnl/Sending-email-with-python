{
 "cells": [
  {
   "cell_type": "code",
   "execution_count": 23,
   "metadata": {},
   "outputs": [
    {
     "name": "stdout",
     "output_type": "stream",
     "text": [
      "email sent to :Naveen\n"
     ]
    },
    {
     "data": {
      "text/plain": [
       "(221, b'2.0.0 closing connection w76-v6sm8178116pfk.188 - gsmtp')"
      ]
     },
     "execution_count": 23,
     "metadata": {},
     "output_type": "execute_result"
    }
   ],
   "source": [
    "'''\n",
    "Author:Sunil Kumar\n",
    "This Scripts send Email to users\n",
    "'''\n",
    "import smtplib\n",
    "from time import sleep\n",
    "import random\n",
    "import pandas as pd\n",
    "server = smtplib.SMTP('smtp.gmail.com', 587)\n",
    "server.starttls()\n",
    "server.login(\"gsunilg123@gmail.com\", \"8233191008\")\n",
    "name=['Naveen']\n",
    "email=['sunilkumarsdlp@gmail.com']\n",
    "# df = pd.read_excel('File.xlsx', sheetname=0) # can also index sheet by name or fetch all sheets\n",
    "# name= df['Name'].tolist()\n",
    "for i in range(len(name)):\n",
    "    msg =\"\"\"From:Sunil Kumar\n",
    "To: sunil@antriex.com\n",
    "Subject: Assignmnt for Content Writing\n",
    "\n",
    "Dear \"\"\"+name[i]+\"\"\"\n",
    "\n",
    "Thanks for your application for the post of \"Content Writer\".Please let us know when we can schedule a telephonic interview.\n",
    "For any queries, please feel free to ask.\n",
    "\n",
    "Regards\n",
    "Deepak Kalunia\n",
    "\"\"\"\n",
    "    server.sendmail(\"gsunilg123@gmail.com\",email[i], msg)\n",
    "    print('email sent to :'+name[i])\n",
    "    sleep(random.randrange(1,5))\n",
    "server.quit()"
   ]
  },
  {
   "cell_type": "code",
   "execution_count": 8,
   "metadata": {},
   "outputs": [
    {
     "name": "stdout",
     "output_type": "stream",
     "text": [
      "Amit Tanwar\n",
      "amit.tanwar1@gmail.com\n",
      "Archit jain\n",
      "jarchit88@gmail.com\n",
      "Ashrita Dkhar\n",
      "dkharashrita@gmail.com\n",
      "Gurpreet Kaur\n",
      "dgurpreetk.86@gmail.com\n",
      "Himashi Khatri\n",
      "khatrihimanshi4@gmail.com\n",
      "Modina\n",
      "modina2023@gmail.com\n",
      "Nikhil Mishra\n",
      "nikhilmishra_17@yahoo.com\n",
      "Protim Borah\n",
      "protim31007@gmail.com\n",
      "Richa Yadav\n",
      "yadavricha2016@gmail.com\n",
      "Siddharth Gupta\n",
      "siddharthgupta234@gmail.com\n",
      "Vidushi Dubey\n",
      "vidushiec1993@gmail.com\n",
      "Vineet Singh Bisht\n",
      "vineet007thebisht@gmail.com\n"
     ]
    },
    {
     "name": "stderr",
     "output_type": "stream",
     "text": [
      "C:\\ProgramData\\Anaconda3\\lib\\site-packages\\pandas\\util\\_decorators.py:118: FutureWarning: The `sheetname` keyword is deprecated, use `sheet_name` instead\n",
      "  return func(*args, **kwargs)\n"
     ]
    }
   ],
   "source": [
    "df = pd.read_excel('Excel File', sheetname=0)                    # can also index sheet by name or fetch all sheets\n",
    "name1= df['Name'].tolist()\n",
    "email1=df['Email_id'].tolist()\n",
    "for i in range(len(name1)):\n",
    "    print(name1[i])\n",
    "    print(email1[i])\n"
   ]
  },
  {
   "cell_type": "code",
   "execution_count": null,
   "metadata": {},
   "outputs": [],
   "source": []
  }
 ],
 "metadata": {
  "kernelspec": {
   "display_name": "Python 3",
   "language": "python",
   "name": "python3"
  },
  "language_info": {
   "codemirror_mode": {
    "name": "ipython",
    "version": 3
   },
   "file_extension": ".py",
   "mimetype": "text/x-python",
   "name": "python",
   "nbconvert_exporter": "python",
   "pygments_lexer": "ipython3",
   "version": "3.6.4"
  }
 },
 "nbformat": 4,
 "nbformat_minor": 2
}
